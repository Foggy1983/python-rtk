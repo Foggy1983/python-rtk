{
 "cells": [
  {
   "cell_type": "code",
   "execution_count": 1,
   "id": "2b9ce8e7",
   "metadata": {},
   "outputs": [],
   "source": [
    "import pandas as pd\n",
    "import requests\n",
    "from bs4 import BeautifulSoup"
   ]
  },
  {
   "cell_type": "code",
   "execution_count": 131,
   "id": "1bf813f4",
   "metadata": {},
   "outputs": [],
   "source": [
    "pages=5\n",
    "names_list=[]\n",
    "company_list=[]\n",
    "desc_list=[]\n",
    "skills_l=[]\n",
    "for page in range(pages):\n",
    "    url = f'https://hh.ru/search/vacancy?text=Middle+python&from=suggest_post&area=1&page={page}'\n",
    "    user_agent = {'User-agent': 'Mozilla/5.0'}\n",
    "    result = requests.get(url, headers=user_agent)\n",
    "    if result.status_code == 200:\n",
    "        soup = BeautifulSoup(result.content, 'lxml')\n",
    "        names = soup.find_all('a', attrs={'data-qa': 'serp-item__title', 'class':'serp-item__title'})\n",
    "        for name in names:\n",
    "                url = name.attrs.get('href')\n",
    "                result = requests.get(url, headers=user_agent)\n",
    "                soup = BeautifulSoup(result.content, 'lxml')\n",
    "                names = soup.find_all('h1',{'data-qa':'vacancy-title'})\n",
    "                if names:\n",
    "                    names = names[0].text\n",
    "                else:\n",
    "                    names=None\n",
    "                company = soup.find('span',{'class':'vacancy-company-name'})\n",
    "                if company != None:\n",
    "                    company = company.text\n",
    "                else:\n",
    "                    next\n",
    "                description = soup.find('div',{'class':'g-user-content','data-qa':'vacancy-description'})\n",
    "                if description:\n",
    "                    description=description.text\n",
    "                else:\n",
    "                    description=description\n",
    "                skills = soup.find_all('div',{'data-qa':'bloko-tag bloko-tag_inline skills-element'})\n",
    "                skills_list=[skill.text for skill in skills]\n",
    "                skills_list = \", \".join(skills_list)\n",
    "                names_list.append(names)\n",
    "                company_list.append(company)\n",
    "                desc_list.append(description)\n",
    "                skills_l.append(skills_list)"
   ]
  },
  {
   "cell_type": "code",
   "execution_count": 134,
   "id": "92370357",
   "metadata": {},
   "outputs": [
    {
     "data": {
      "text/plain": [
       "100"
      ]
     },
     "execution_count": 134,
     "metadata": {},
     "output_type": "execute_result"
    }
   ],
   "source": [
    "temp = {'names':names_list,'company':company_list,'description':desc_list,'skills':skills_l}\n",
    "data = pd.DataFrame(temp)\n",
    "len(data)"
   ]
  },
  {
   "cell_type": "code",
   "execution_count": 135,
   "id": "c0903628",
   "metadata": {},
   "outputs": [],
   "source": [
    "url = \"https://api.hh.ru/vacancies?text=middle python&per_page=100&page=0\""
   ]
  },
  {
   "cell_type": "code",
   "execution_count": 136,
   "id": "a6438dd9",
   "metadata": {},
   "outputs": [],
   "source": [
    "result = requests.get(url)"
   ]
  },
  {
   "cell_type": "code",
   "execution_count": 137,
   "id": "cb6ccc4e",
   "metadata": {},
   "outputs": [],
   "source": [
    "vacancies = result.json().get('items')"
   ]
  },
  {
   "cell_type": "code",
   "execution_count": 138,
   "id": "8f76c292",
   "metadata": {},
   "outputs": [],
   "source": [
    "links = []\n",
    "for i in range(len(vacancies)):\n",
    "    links.append(vacancies[i]['url'])"
   ]
  },
  {
   "cell_type": "code",
   "execution_count": 139,
   "id": "2ea0e8b9",
   "metadata": {},
   "outputs": [],
   "source": [
    "names_list=[]\n",
    "company_list=[]\n",
    "desc_list=[]\n",
    "skills_l=[]\n",
    "for link in links:\n",
    "    url=link\n",
    "    result = requests.get(url)\n",
    "    vacancy = result.json()\n",
    "    name = vacancy['name']\n",
    "    emp = vacancy['employer']['name']\n",
    "    desc = vacancy['description']\n",
    "    skills =  [i['name'] for i in vacancy['key_skills']]\n",
    "    skills = \", \".join(skills)\n",
    "    names_list.append(name)\n",
    "    company_list.append(emp)\n",
    "    desc_list.append(desc)\n",
    "    skills_l.append(skills)"
   ]
  },
  {
   "cell_type": "code",
   "execution_count": 140,
   "id": "36d17a41",
   "metadata": {},
   "outputs": [
    {
     "data": {
      "text/html": [
       "<div>\n",
       "<style scoped>\n",
       "    .dataframe tbody tr th:only-of-type {\n",
       "        vertical-align: middle;\n",
       "    }\n",
       "\n",
       "    .dataframe tbody tr th {\n",
       "        vertical-align: top;\n",
       "    }\n",
       "\n",
       "    .dataframe thead th {\n",
       "        text-align: right;\n",
       "    }\n",
       "</style>\n",
       "<table border=\"1\" class=\"dataframe\">\n",
       "  <thead>\n",
       "    <tr style=\"text-align: right;\">\n",
       "      <th></th>\n",
       "      <th>names</th>\n",
       "      <th>company</th>\n",
       "      <th>description</th>\n",
       "      <th>skills</th>\n",
       "    </tr>\n",
       "  </thead>\n",
       "  <tbody>\n",
       "    <tr>\n",
       "      <th>0</th>\n",
       "      <td>QA Engineer/Тестировщик (Удаленно)</td>\n",
       "      <td>Professional Gaming Solutions Ltd</td>\n",
       "      <td>&lt;p&gt;Мы ищем Junior/Middle QA тестировщика для р...</td>\n",
       "      <td>QA, MVT тесты, Тестирование, Автотесты</td>\n",
       "    </tr>\n",
       "    <tr>\n",
       "      <th>1</th>\n",
       "      <td>Python разработчик</td>\n",
       "      <td>TerraLink</td>\n",
       "      <td>&lt;p&gt;&lt;em&gt;Компания&lt;/em&gt;&lt;em&gt; ТерраЛинк &lt;/em&gt;&lt;em&gt;– ...</td>\n",
       "      <td></td>\n",
       "    </tr>\n",
       "    <tr>\n",
       "      <th>2</th>\n",
       "      <td>QA Engineer (Junior+/ Middle)</td>\n",
       "      <td>AMarkets</td>\n",
       "      <td>&lt;p&gt;&lt;strong&gt;AMarkets&lt;/strong&gt; – международная F...</td>\n",
       "      <td>Функциональное тестирование, Postman, Тестиров...</td>\n",
       "    </tr>\n",
       "    <tr>\n",
       "      <th>3</th>\n",
       "      <td>Middle Vue разработчик</td>\n",
       "      <td>Sibdev</td>\n",
       "      <td>&lt;p&gt;&lt;em&gt;Мы - аккредитованная компания &lt;strong&gt;S...</td>\n",
       "      <td>Redis, Vue, Vuex, RabbitMQ</td>\n",
       "    </tr>\n",
       "    <tr>\n",
       "      <th>4</th>\n",
       "      <td>Junior/Middle backend разработчик на Fast API ...</td>\n",
       "      <td>Webtronics</td>\n",
       "      <td>&lt;p&gt;Привет! Мы Webtronics. Ищем в команду FastA...</td>\n",
       "      <td>Git, Redis, PostgreSQL, Python, REST, REST API...</td>\n",
       "    </tr>\n",
       "    <tr>\n",
       "      <th>...</th>\n",
       "      <td>...</td>\n",
       "      <td>...</td>\n",
       "      <td>...</td>\n",
       "      <td>...</td>\n",
       "    </tr>\n",
       "    <tr>\n",
       "      <th>95</th>\n",
       "      <td>Middle / Middle+ Python Developer</td>\n",
       "      <td>Holyweb</td>\n",
       "      <td>&lt;p&gt;&lt;strong&gt;Holyweb&lt;/strong&gt; – сервисная IT-ком...</td>\n",
       "      <td>PostgreSQL, Python, Kafka, Docker, Django Fram...</td>\n",
       "    </tr>\n",
       "    <tr>\n",
       "      <th>96</th>\n",
       "      <td>Разработчик аналитических систем</td>\n",
       "      <td>Крит</td>\n",
       "      <td>&lt;p&gt;Мы предлагаем работу на крупных проектах у ...</td>\n",
       "      <td></td>\n",
       "    </tr>\n",
       "    <tr>\n",
       "      <th>97</th>\n",
       "      <td>Middle PHP-разработчик</td>\n",
       "      <td>Директ Лайн</td>\n",
       "      <td>&lt;p&gt;Приглашаем в команду &lt;strong&gt;PHP разработчи...</td>\n",
       "      <td>Laravel, MariaDB, ООП, PHP, PHP7, API, Git, Yi...</td>\n",
       "    </tr>\n",
       "    <tr>\n",
       "      <th>98</th>\n",
       "      <td>Инженер по автоматизации тестирования (Middle)</td>\n",
       "      <td>Компания Стрим Лабс</td>\n",
       "      <td>&lt;p&gt;Мы разрабатываем ПО для контроля и монитори...</td>\n",
       "      <td></td>\n",
       "    </tr>\n",
       "    <tr>\n",
       "      <th>99</th>\n",
       "      <td>Frontend Developer (React)</td>\n",
       "      <td>evrone.ru</td>\n",
       "      <td>&lt;p&gt;&lt;strong&gt;Как откликнуться:&lt;/strong&gt; пожалуйс...</td>\n",
       "      <td>JavaScript, React, TypeScript</td>\n",
       "    </tr>\n",
       "  </tbody>\n",
       "</table>\n",
       "<p>100 rows × 4 columns</p>\n",
       "</div>"
      ],
      "text/plain": [
       "                                                names  \\\n",
       "0                  QA Engineer/Тестировщик (Удаленно)   \n",
       "1                                  Python разработчик   \n",
       "2                       QA Engineer (Junior+/ Middle)   \n",
       "3                              Middle Vue разработчик   \n",
       "4   Junior/Middle backend разработчик на Fast API ...   \n",
       "..                                                ...   \n",
       "95                  Middle / Middle+ Python Developer   \n",
       "96                   Разработчик аналитических систем   \n",
       "97                             Middle PHP-разработчик   \n",
       "98     Инженер по автоматизации тестирования (Middle)   \n",
       "99                         Frontend Developer (React)   \n",
       "\n",
       "                              company  \\\n",
       "0   Professional Gaming Solutions Ltd   \n",
       "1                           TerraLink   \n",
       "2                            AMarkets   \n",
       "3                              Sibdev   \n",
       "4                          Webtronics   \n",
       "..                                ...   \n",
       "95                            Holyweb   \n",
       "96                               Крит   \n",
       "97                        Директ Лайн   \n",
       "98                Компания Стрим Лабс   \n",
       "99                          evrone.ru   \n",
       "\n",
       "                                          description  \\\n",
       "0   <p>Мы ищем Junior/Middle QA тестировщика для р...   \n",
       "1   <p><em>Компания</em><em> ТерраЛинк </em><em>– ...   \n",
       "2   <p><strong>AMarkets</strong> – международная F...   \n",
       "3   <p><em>Мы - аккредитованная компания <strong>S...   \n",
       "4   <p>Привет! Мы Webtronics. Ищем в команду FastA...   \n",
       "..                                                ...   \n",
       "95  <p><strong>Holyweb</strong> – сервисная IT-ком...   \n",
       "96  <p>Мы предлагаем работу на крупных проектах у ...   \n",
       "97  <p>Приглашаем в команду <strong>PHP разработчи...   \n",
       "98  <p>Мы разрабатываем ПО для контроля и монитори...   \n",
       "99  <p><strong>Как откликнуться:</strong> пожалуйс...   \n",
       "\n",
       "                                               skills  \n",
       "0              QA, MVT тесты, Тестирование, Автотесты  \n",
       "1                                                      \n",
       "2   Функциональное тестирование, Postman, Тестиров...  \n",
       "3                          Redis, Vue, Vuex, RabbitMQ  \n",
       "4   Git, Redis, PostgreSQL, Python, REST, REST API...  \n",
       "..                                                ...  \n",
       "95  PostgreSQL, Python, Kafka, Docker, Django Fram...  \n",
       "96                                                     \n",
       "97  Laravel, MariaDB, ООП, PHP, PHP7, API, Git, Yi...  \n",
       "98                                                     \n",
       "99                      JavaScript, React, TypeScript  \n",
       "\n",
       "[100 rows x 4 columns]"
      ]
     },
     "execution_count": 140,
     "metadata": {},
     "output_type": "execute_result"
    }
   ],
   "source": [
    "temp = {'names':names_list,'company':company_list,'description':desc_list,'skills':skills_l}\n",
    "data2 = pd.DataFrame(temp)\n",
    "data2"
   ]
  },
  {
   "cell_type": "code",
   "execution_count": 80,
   "id": "ef0cc161",
   "metadata": {},
   "outputs": [],
   "source": [
    "import sqlite3"
   ]
  },
  {
   "cell_type": "code",
   "execution_count": 81,
   "id": "5b017082",
   "metadata": {},
   "outputs": [],
   "source": [
    "conn = sqlite3.connect('db.db')\n",
    "cur=conn.cursor()"
   ]
  },
  {
   "cell_type": "code",
   "execution_count": 142,
   "id": "f79edaec",
   "metadata": {},
   "outputs": [],
   "source": [
    "cur.execute(\"\"\"\n",
    "    create table if not exists hh(\n",
    "        id integer primary key,\n",
    "        name text,\n",
    "        company text,\n",
    "        description text,\n",
    "        skills text);\n",
    "\"\"\")\n",
    "conn.commit()"
   ]
  },
  {
   "cell_type": "code",
   "execution_count": 143,
   "id": "8a7c23cd",
   "metadata": {},
   "outputs": [],
   "source": [
    "#Запись в бд данных полученных парсингом\n",
    "for i in range(len(data)):\n",
    "    cur.execute(\n",
    "        \"\"\"\n",
    "            insert into hh(name, company, description, skills)\n",
    "            values (?,?,?,?);\n",
    "        \"\"\",data.iloc[i]\n",
    "        )\n",
    "    conn.commit()"
   ]
  },
  {
   "cell_type": "code",
   "execution_count": 144,
   "id": "27916fd5",
   "metadata": {},
   "outputs": [],
   "source": [
    "cur.execute(\n",
    "\"\"\"select * from hh\n",
    "\"\"\"\n",
    ")\n",
    "res = cur.fetchall()\n"
   ]
  },
  {
   "cell_type": "code",
   "execution_count": 145,
   "id": "074a4398",
   "metadata": {},
   "outputs": [],
   "source": [
    "cur.execute(\"\"\"\n",
    "    create table if not exists hh_api(\n",
    "        id integer primary key,\n",
    "        name text,\n",
    "        company text,\n",
    "        description text,\n",
    "        skills text);\n",
    "\"\"\")\n",
    "conn.commit()"
   ]
  },
  {
   "cell_type": "code",
   "execution_count": 146,
   "id": "54bd0468",
   "metadata": {},
   "outputs": [],
   "source": [
    "#Запись в бд данных полученных по API\n",
    "for i in range(len(data2)):\n",
    "    cur.execute(\n",
    "        \"\"\"\n",
    "            insert into hh(name, company, description, skills)\n",
    "            values (?,?,?,?);\n",
    "        \"\"\",data2.iloc[i]\n",
    "        )\n",
    "    conn.commit()"
   ]
  }
 ],
 "metadata": {
  "kernelspec": {
   "display_name": "Python 3 (ipykernel)",
   "language": "python",
   "name": "python3"
  },
  "language_info": {
   "codemirror_mode": {
    "name": "ipython",
    "version": 3
   },
   "file_extension": ".py",
   "mimetype": "text/x-python",
   "name": "python",
   "nbconvert_exporter": "python",
   "pygments_lexer": "ipython3",
   "version": "3.9.12"
  }
 },
 "nbformat": 4,
 "nbformat_minor": 5
}
