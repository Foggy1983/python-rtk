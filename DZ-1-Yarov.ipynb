{
 "cells": [
  {
   "cell_type": "code",
   "execution_count": 1,
   "id": "22f63f6b",
   "metadata": {},
   "outputs": [],
   "source": [
    "import pandas as pd\n",
    "import sqlite3\n",
    "import zipfile\n",
    "from pathlib import Path"
   ]
  },
  {
   "cell_type": "code",
   "execution_count": 2,
   "id": "4799868c",
   "metadata": {},
   "outputs": [
    {
     "data": {
      "text/html": [
       "<div>\n",
       "<style scoped>\n",
       "    .dataframe tbody tr th:only-of-type {\n",
       "        vertical-align: middle;\n",
       "    }\n",
       "\n",
       "    .dataframe tbody tr th {\n",
       "        vertical-align: top;\n",
       "    }\n",
       "\n",
       "    .dataframe thead th {\n",
       "        text-align: right;\n",
       "    }\n",
       "</style>\n",
       "<table border=\"1\" class=\"dataframe\">\n",
       "  <thead>\n",
       "    <tr style=\"text-align: right;\">\n",
       "      <th></th>\n",
       "      <th>code</th>\n",
       "      <th>parent_code</th>\n",
       "      <th>section</th>\n",
       "      <th>name</th>\n",
       "      <th>comment</th>\n",
       "    </tr>\n",
       "  </thead>\n",
       "  <tbody>\n",
       "    <tr>\n",
       "      <th>0</th>\n",
       "      <td>01</td>\n",
       "      <td>A</td>\n",
       "      <td>A</td>\n",
       "      <td>Растениеводство и животноводство, охота и пред...</td>\n",
       "      <td>Эта группировка включает:\\n- два основных вида...</td>\n",
       "    </tr>\n",
       "    <tr>\n",
       "      <th>1</th>\n",
       "      <td>01.1</td>\n",
       "      <td>01</td>\n",
       "      <td>A</td>\n",
       "      <td>Выращивание однолетних культур</td>\n",
       "      <td>Эта группировка включает:\\n- выращивание однол...</td>\n",
       "    </tr>\n",
       "    <tr>\n",
       "      <th>2</th>\n",
       "      <td>01.11</td>\n",
       "      <td>01.1</td>\n",
       "      <td>A</td>\n",
       "      <td>Выращивание зерновых (кроме риса), зернобобовы...</td>\n",
       "      <td>Эта группировка включает:\\n- все формы выращив...</td>\n",
       "    </tr>\n",
       "    <tr>\n",
       "      <th>3</th>\n",
       "      <td>01.11.1</td>\n",
       "      <td>01.11</td>\n",
       "      <td>A</td>\n",
       "      <td>Выращивание зерновых культур</td>\n",
       "      <td></td>\n",
       "    </tr>\n",
       "    <tr>\n",
       "      <th>4</th>\n",
       "      <td>01.11.11</td>\n",
       "      <td>01.11.1</td>\n",
       "      <td>A</td>\n",
       "      <td>Выращивание пшеницы</td>\n",
       "      <td></td>\n",
       "    </tr>\n",
       "  </tbody>\n",
       "</table>\n",
       "</div>"
      ],
      "text/plain": [
       "       code parent_code section  \\\n",
       "0        01           A       A   \n",
       "1      01.1          01       A   \n",
       "2     01.11        01.1       A   \n",
       "3   01.11.1       01.11       A   \n",
       "4  01.11.11     01.11.1       A   \n",
       "\n",
       "                                                name  \\\n",
       "0  Растениеводство и животноводство, охота и пред...   \n",
       "1                     Выращивание однолетних культур   \n",
       "2  Выращивание зерновых (кроме риса), зернобобовы...   \n",
       "3                       Выращивание зерновых культур   \n",
       "4                                Выращивание пшеницы   \n",
       "\n",
       "                                             comment  \n",
       "0  Эта группировка включает:\\n- два основных вида...  \n",
       "1  Эта группировка включает:\\n- выращивание однол...  \n",
       "2  Эта группировка включает:\\n- все формы выращив...  \n",
       "3                                                     \n",
       "4                                                     "
      ]
     },
     "execution_count": 2,
     "metadata": {},
     "output_type": "execute_result"
    }
   ],
   "source": [
    "data = pd.read_json('okved_2.json')\n",
    "data.head()"
   ]
  },
  {
   "cell_type": "code",
   "execution_count": null,
   "id": "a0e9ba83",
   "metadata": {},
   "outputs": [],
   "source": [
    "conn = sqlite3.connect('db.db')\n",
    "cur=conn.cursor()"
   ]
  },
  {
   "cell_type": "markdown",
   "id": "0961f20f",
   "metadata": {},
   "source": [
    "### Задание №1"
   ]
  },
  {
   "cell_type": "code",
   "execution_count": null,
   "id": "74163125",
   "metadata": {},
   "outputs": [],
   "source": [
    "#Создаем таблицу в БД\n",
    "\n",
    "cur.execute(\"\"\"\n",
    "    create table if not exists okved(\n",
    "        id integer primary key,\n",
    "        code text,\n",
    "        parent_code text,\n",
    "        section text,\n",
    "        name text,\n",
    "        comment text);\n",
    "\"\"\")\n",
    "conn.commit()"
   ]
  },
  {
   "cell_type": "code",
   "execution_count": null,
   "id": "1ca55522",
   "metadata": {},
   "outputs": [],
   "source": [
    "# В цикле проходимся по файлу и записываем данные в БД\n",
    "\n",
    "for i in range(len(data)):\n",
    "    cur.execute(\n",
    "        \"\"\"\n",
    "            insert into okved(code, parent_code, section, name, comment)\n",
    "            values (?,?,?,?,?);\n",
    "        \"\"\",data.iloc[i]\n",
    "        )\n",
    "    conn.commit()"
   ]
  },
  {
   "cell_type": "code",
   "execution_count": null,
   "id": "e2c30a3e",
   "metadata": {},
   "outputs": [],
   "source": [
    "#Проверка наличия записей в БД\n",
    "\n",
    "cur.execute(\n",
    "\"\"\"select * from okved\n",
    "\"\"\"\n",
    ")\n",
    "res = cur.fetchall()\n",
    "res"
   ]
  },
  {
   "cell_type": "markdown",
   "id": "b92b49db",
   "metadata": {},
   "source": [
    "### Задание №2"
   ]
  },
  {
   "cell_type": "code",
   "execution_count": null,
   "id": "2a35c621",
   "metadata": {},
   "outputs": [],
   "source": [
    "# Создаем таблицу\n",
    "\n",
    "cur.execute(\"\"\"\n",
    "    create table if not exists okved_2(\n",
    "        id integer primary key,\n",
    "        name text,\n",
    "        inn text,\n",
    "        kpp text,\n",
    "        okved text,\n",
    "        full_name text);\n",
    "\"\"\")\n",
    "conn.commit()"
   ]
  },
  {
   "cell_type": "code",
   "execution_count": null,
   "id": "35fd9299",
   "metadata": {},
   "outputs": [],
   "source": [
    "# Вспомогательная функция которая записываем в БД отфильтрованный датафрейм, содержащий только нужные строки\n",
    "#  Так же проверяем перед записью наличие строк в БД с идентичным названием организации, если такая запись уже есть, то делаем\n",
    "# ее апдейт.\n",
    "\n",
    "def record_or_replace(df):\n",
    "    for i in range(len(df)):\n",
    "        name = df.iloc[i]['name'].replace(\"\\\"\",\"'\")\n",
    "        inn = df.iloc[i]['inn']\n",
    "        kpp = df.iloc[i]['kpp']\n",
    "        okved_o = df.iloc[i]['data']['СвОКВЭД']['СвОКВЭДОсн']['КодОКВЭД']\n",
    "        full_name = df.iloc[i]['full_name']\n",
    "        cur.execute(\n",
    "        \"select * from okved_2 where name = \\\"\" + name+\"\\\"\"\n",
    "        )\n",
    "        res = cur.fetchall()\n",
    "        if len(res)==0:\n",
    "            cur.execute(\n",
    "            \"\"\"\n",
    "                insert into okved_2(name,inn, kpp,okved,full_name)\n",
    "                values (?,?,?,?,?);\n",
    "            \"\"\",(name,str(inn),str(kpp),okved_o,full_name)\n",
    "            )\n",
    "        else:\n",
    "            okved_o = okved_o+\"; \"+res[0][4]\n",
    "            cur.execute(\n",
    "            \"update okved_2 set okved = \\\"\" + okved_o +\"\\\" where name = \\\"\" + name+\"\\\"\"\n",
    "            )\n",
    "    conn.commit()"
   ]
  },
  {
   "cell_type": "code",
   "execution_count": null,
   "id": "4f28142b",
   "metadata": {},
   "outputs": [],
   "source": [
    "#Вспомогательная функция для фильтрации датафрейма\n",
    "\n",
    "def okved(row):\n",
    "    try:\n",
    "        if(row['data']['СвОКВЭД']['СвОКВЭДОсн']['КодОКВЭД'][:2]=='61'):\n",
    "            return \"yes\"\n",
    "    except:\n",
    "        return \"no\"\n",
    "    return \"no\""
   ]
  },
  {
   "cell_type": "code",
   "execution_count": null,
   "id": "ec1ba4de",
   "metadata": {},
   "outputs": [],
   "source": [
    "#Читаем список файлов внутри архива\n",
    "\n",
    "z = zipfile.ZipFile('egrul.json.zip')"
   ]
  },
  {
   "cell_type": "code",
   "execution_count": null,
   "id": "3a320def",
   "metadata": {},
   "outputs": [],
   "source": [
    "#Проходим по каждому файлу из списка, фильтруем его и результат записываем в БД\n",
    "\n",
    "z.namelist()\n",
    "for name in z.namelist():\n",
    "    z.extract(name)\n",
    "    with open(name,'r',encoding='utf-8') as f:\n",
    "        data = pd.read_json(name)\n",
    "        data['tst']=data.apply(okved,axis=1)\n",
    "        dt2 = data[data.tst=='yes']\n",
    "        record_or_replace(dt2)\n",
    "    path = Path(name)\n",
    "    path.unlink()"
   ]
  },
  {
   "cell_type": "code",
   "execution_count": null,
   "id": "78c2ad1d",
   "metadata": {},
   "outputs": [],
   "source": [
    "cur.execute(\n",
    "\"\"\"select * from okved_2\n",
    "\n",
    "\"\"\"\n",
    ")\n",
    "res = cur.fetchall()"
   ]
  }
 ],
 "metadata": {
  "kernelspec": {
   "display_name": "Python 3 (ipykernel)",
   "language": "python",
   "name": "python3"
  },
  "language_info": {
   "codemirror_mode": {
    "name": "ipython",
    "version": 3
   },
   "file_extension": ".py",
   "mimetype": "text/x-python",
   "name": "python",
   "nbconvert_exporter": "python",
   "pygments_lexer": "ipython3",
   "version": "3.9.12"
  }
 },
 "nbformat": 4,
 "nbformat_minor": 5
}
